{
  "nbformat": 4,
  "nbformat_minor": 0,
  "metadata": {
    "colab": {
      "provenance": []
    },
    "kernelspec": {
      "name": "python3",
      "display_name": "Python 3"
    },
    "language_info": {
      "name": "python"
    }
  },
  "cells": [
    {
      "cell_type": "code",
      "source": [
        "import os\n",
        "for f in os.listdir():\n",
        "    if f.startswith(\"Recipes\") or f.endswith(\".py\") or f.endswith(\".tokens\"):\n",
        "        os.remove(f)"
      ],
      "metadata": {
        "id": "epdYdC3RQLny"
      },
      "execution_count": 1,
      "outputs": []
    },
    {
      "cell_type": "code",
      "source": [
        "%%writefile Recipes.g4\n",
        "grammar Recipes;\n",
        "\n",
        "program\n",
        "    : statement+ EOF\n",
        "    ;\n",
        "\n",
        "statement\n",
        "    : ingredientStmt\n",
        "    | stepStmt\n",
        "    | totalCostStmt\n",
        "    | totalCaloriesStmt\n",
        "    ;\n",
        "\n",
        "ingredientStmt\n",
        "    : 'ingredient' ID AMOUNT ('costPerUnit' FLOAT)? ('calories' INT)? ';'\n",
        "    ;\n",
        "\n",
        "stepStmt\n",
        "    : 'step' ID stepParams? (stepModifiers | 'time' AMOUNT)* ';'\n",
        "    ;\n",
        "\n",
        "totalCaloriesStmt: 'totalCalories' ';';\n",
        "\n",
        "stepParams : (ID | AMOUNT | FLOAT)+ ;\n",
        "\n",
        "stepModifiers: (parallel | dependsOn)+;\n",
        "\n",
        "parallel: 'parallel';\n",
        "\n",
        "dependsOn: 'dependsOn' ID;\n",
        "\n",
        "totalCostStmt: 'totalCost' ';';\n",
        "\n",
        "ID      : [a-zA-Z_][a-zA-Z_0-9]* ;\n",
        "\n",
        "AMOUNT\n",
        "    : [0-9]+ ('g' | 'kg' | 'ml' | 'l' | 'min' | 'h' | 'C' | 'piece' | 'cup' | 'tbsp' | 'tsp')\n",
        "    ;\n",
        "\n",
        "INT : [0-9]+ ;\n",
        "\n",
        "FLOAT   : [0-9]+ ('.' [0-9]+)? ;\n",
        "WS      : [ \\t\\r\\n]+ -> skip ;\n",
        "COMMENT : '//' ~[\\r\\n]* -> skip ;"
      ],
      "metadata": {
        "colab": {
          "base_uri": "https://localhost:8080/"
        },
        "id": "YEs01f1zQNid",
        "outputId": "4fbbab53-33b2-46cc-e7dd-a50fc1123d6e"
      },
      "execution_count": 2,
      "outputs": [
        {
          "output_type": "stream",
          "name": "stdout",
          "text": [
            "Writing Recipes.g4\n"
          ]
        }
      ]
    },
    {
      "cell_type": "code",
      "source": [
        "!curl -O https://www.antlr.org/download/antlr-4.9.3-complete.jar"
      ],
      "metadata": {
        "colab": {
          "base_uri": "https://localhost:8080/"
        },
        "id": "sRK9jcH6QzVU",
        "outputId": "8a8e14af-3a6e-459e-e7c3-dd5ce759ccd5"
      },
      "execution_count": 3,
      "outputs": [
        {
          "output_type": "stream",
          "name": "stdout",
          "text": [
            "  % Total    % Received % Xferd  Average Speed   Time    Time     Time  Current\n",
            "                                 Dload  Upload   Total   Spent    Left  Speed\n",
            "100 3425k  100 3425k    0     0  7400k      0 --:--:-- --:--:-- --:--:-- 7399k\n"
          ]
        }
      ]
    },
    {
      "cell_type": "code",
      "source": [
        "!java -jar antlr-4.9.3-complete.jar -Dlanguage=Python3 -no-listener -visitor Recipes.g4"
      ],
      "metadata": {
        "id": "y-euz-FjQG9u"
      },
      "execution_count": 4,
      "outputs": []
    },
    {
      "cell_type": "code",
      "source": [
        "%%writefile EvalVisitor.py\n",
        "from antlr4 import *\n",
        "import re\n",
        "\n",
        "if __name__ is not None and \".\" in __name__:\n",
        "    from RecipesParser import RecipesParser\n",
        "    from RecipesVisitor import RecipesVisitor\n",
        "else:\n",
        "    from RecipesParser import RecipesParser\n",
        "    from RecipesVisitor import RecipesVisitor\n",
        "\n",
        "class EvalVisitor(RecipesVisitor):\n",
        "    def __init__(self):\n",
        "        self.ingredients = {}\n",
        "        self.total_cost = 0.0\n",
        "        self.total_calories = 0\n",
        "        self.steps = []\n",
        "\n",
        "    def visitProgram(self, ctx):\n",
        "        for st in ctx.statement():\n",
        "            self.visit(st)\n",
        "        return {\n",
        "        \"ingredients\": self.ingredients,\n",
        "        \"steps\": self.steps,\n",
        "        \"total_cost\": self.total_cost,\n",
        "        \"total_calories\": self.total_calories\n",
        "        }\n",
        "\n",
        "    def visitIngredientStmt(self, ctx):\n",
        "      name   = ctx.ID().getText()\n",
        "      amount = ctx.AMOUNT().getText()    # ejemplo: '200g'\n",
        "      # separa numero y unidad con regex\n",
        "      m = re.match(r'(\\d+)([a-zA-Z]+)', amount)\n",
        "      if m:\n",
        "        qty  = int(m.group(1))         # 200\n",
        "        unit = m.group(2)              # g\n",
        "      else:\n",
        "        qty, unit = 0, ''\n",
        "      cost = float(ctx.FLOAT().getText()) if ctx.FLOAT() else 0.0\n",
        "      calories = int(ctx.INT().getText()) if ctx.INT() else 0\n",
        "\n",
        "      self.ingredients[name] = (qty, unit, cost)\n",
        "      self.total_cost += cost\n",
        "      self.total_calories += calories\n",
        "\n",
        "    def visitStepStmt(self, ctx):\n",
        "      step_name = ctx.ID().getText()\n",
        "\n",
        "      # Parámetros (ingredientes o insumos del paso)\n",
        "      params = [p.getText() for p in ctx.stepParams().children] if ctx.stepParams() else []\n",
        "\n",
        "      # Tiempo\n",
        "      time = None\n",
        "      if ctx.AMOUNT():\n",
        "          for a in ctx.AMOUNT():\n",
        "              val = a.getText()\n",
        "              if val.endswith(\"min\") or val.endswith(\"h\"):\n",
        "                  time = val\n",
        "                  break\n",
        "\n",
        "      # Dependencias\n",
        "      depends = []\n",
        "      if ctx.stepModifiers():\n",
        "          for mod in ctx.stepModifiers():\n",
        "              if mod.dependsOn():\n",
        "                  for dep in mod.dependsOn():\n",
        "                      depends.append(dep.ID().getText())\n",
        "\n",
        "      # Guardar\n",
        "      step_info = {\n",
        "          \"step\": step_name,\n",
        "          \"params\": params,\n",
        "          \"time\": time,\n",
        "          \"depends_on\": depends\n",
        "      }\n",
        "      self.steps.append(step_info)\n",
        "\n",
        "      # Imprimir más detallado\n",
        "      msg = f\"Paso: {step_name}\"\n",
        "      if params:\n",
        "          msg += f\" ({'mezclando ' + ', '.join(params) if step_name == 'mezclar' else 'usando ' + ', '.join(params)})\"\n",
        "      if time:\n",
        "          msg += f\" (tiempo: {time})\"\n",
        "      if depends:\n",
        "          msg += f\" (depende de: {', '.join(depends)})\"\n",
        "      print(msg)\n",
        "\n",
        "\n",
        "    def visitTotalCostStmt(self, ctx):\n",
        "      print(\"Costo total:\", self.total_cost)\n",
        "\n",
        "    def visitTotalCaloriesStmt(self, ctx):\n",
        "      print(\"Calorías totales:\", self.total_calories)\n"
      ],
      "metadata": {
        "colab": {
          "base_uri": "https://localhost:8080/"
        },
        "id": "ZzGqwdfQQS1m",
        "outputId": "fe6d2eac-19d9-4fb7-fa78-76b3ee309e77"
      },
      "execution_count": 5,
      "outputs": [
        {
          "output_type": "stream",
          "name": "stdout",
          "text": [
            "Writing EvalVisitor.py\n"
          ]
        }
      ]
    },
    {
      "cell_type": "code",
      "source": [
        "from antlr4 import *\n",
        "from RecipesLexer import RecipesLexer\n",
        "from RecipesParser import RecipesParser\n",
        "from EvalVisitor import EvalVisitor\n",
        "\n",
        "input_text = \"\"\"\n",
        "ingredient harina 200g costPerUnit 0.01 calories 700;\n",
        "ingredient leche 500ml costPerUnit 0.002 calories 250;\n",
        "ingredient huevo 2piece costPerUnit 0.3 calories 150;\n",
        "ingredient azucar 100g costPerUnit 0.005 calories 400;\n",
        "ingredient mantequilla 50g costPerUnit 0.02 calories 360;\n",
        "\n",
        "step mezclar harina leche huevo azucar time 10min;\n",
        "step derretir mantequilla time 5min;\n",
        "step combinar mezcla mantequilla time 3min dependsOn mezclar dependsOn derretir;\n",
        "step hornear combinacion time 40min dependsOn combinar;\n",
        "\n",
        "totalCost;\n",
        "totalCalories;\n",
        "\"\"\"\n",
        "\n",
        "lexer = RecipesLexer(InputStream(input_text))\n",
        "token_stream = CommonTokenStream(lexer)\n",
        "parser = RecipesParser(token_stream)\n",
        "tree = parser.program()\n",
        "\n",
        "visitor = EvalVisitor()\n",
        "visitor.visit(tree)\n"
      ],
      "metadata": {
        "colab": {
          "base_uri": "https://localhost:8080/"
        },
        "id": "dtIFlRYPQ1zr",
        "outputId": "d7aa5bf9-4ad5-40b3-fe7c-a76a2f7f9ecb"
      },
      "execution_count": 7,
      "outputs": [
        {
          "output_type": "stream",
          "name": "stdout",
          "text": [
            "Paso: mezclar (mezclando harina, leche, huevo, azucar) (tiempo: 10min)\n",
            "Paso: derretir (usando mantequilla) (tiempo: 5min)\n",
            "Paso: combinar (usando mezcla, mantequilla) (tiempo: 3min) (depende de: mezclar, derretir)\n",
            "Paso: hornear (usando combinacion) (tiempo: 40min) (depende de: combinar)\n",
            "Costo total: 0.337\n",
            "Calorías totales: 1860\n"
          ]
        },
        {
          "output_type": "execute_result",
          "data": {
            "text/plain": [
              "{'ingredients': {'harina': (200, 'g', 0.01),\n",
              "  'leche': (500, 'ml', 0.002),\n",
              "  'huevo': (2, 'piece', 0.3),\n",
              "  'azucar': (100, 'g', 0.005),\n",
              "  'mantequilla': (50, 'g', 0.02)},\n",
              " 'steps': [{'step': 'mezclar',\n",
              "   'params': ['harina', 'leche', 'huevo', 'azucar'],\n",
              "   'time': '10min',\n",
              "   'depends_on': []},\n",
              "  {'step': 'derretir',\n",
              "   'params': ['mantequilla'],\n",
              "   'time': '5min',\n",
              "   'depends_on': []},\n",
              "  {'step': 'combinar',\n",
              "   'params': ['mezcla', 'mantequilla'],\n",
              "   'time': '3min',\n",
              "   'depends_on': ['mezclar', 'derretir']},\n",
              "  {'step': 'hornear',\n",
              "   'params': ['combinacion'],\n",
              "   'time': '40min',\n",
              "   'depends_on': ['combinar']}],\n",
              " 'total_cost': 0.337,\n",
              " 'total_calories': 1860}"
            ]
          },
          "metadata": {},
          "execution_count": 7
        }
      ]
    }
  ]
}